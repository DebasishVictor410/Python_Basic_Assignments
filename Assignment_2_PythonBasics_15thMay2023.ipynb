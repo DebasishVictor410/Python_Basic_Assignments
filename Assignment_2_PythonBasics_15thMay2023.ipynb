{
 "cells": [
  {
   "cell_type": "markdown",
   "id": "efeae5f1",
   "metadata": {},
   "source": [
    "### Q1. How do you comment code in Python? What are the different types of comments?"
   ]
  },
  {
   "cell_type": "code",
   "execution_count": 1,
   "id": "fd4ce383",
   "metadata": {},
   "outputs": [],
   "source": [
    "#### We can use comment in two ways \n",
    "#### One way is 'single line comment'\n",
    "#### Another way is 'multiline comment'\n",
    "\n",
    "#### single line comment\n",
    "#### we can start single line comment with the “#” character\n",
    "#### after that whatever is written its a single line comment\n",
    "#### here hash or # is considered as comment signature\n",
    "\n",
    "#### multi line comment\n",
    "#### actually Python does not support multi-line comments\n",
    "#### multiple ways to overcome this problem\n",
    "\n",
    "#### way 1\n",
    "#### we can use # for each line\n",
    "#### example...\n",
    "# this is line 1\n",
    "# this is line 2\n",
    "# this is line 3\n",
    "\n",
    "\n",
    "\n",
    "#### way 2\n",
    "#### we can use string literals for that\n",
    "#### we can use either single quote or double quote for that\n",
    "#### it can also be used for doc string\n",
    "#### example...\n",
    "#### \"\"\"\n",
    "#### this is line 1\n",
    "#### this is line 2\n",
    "#### this is line 3\n",
    "#### \"\"\"\n"
   ]
  },
  {
   "cell_type": "markdown",
   "id": "17e6739a",
   "metadata": {},
   "source": [
    "### Q2. What are variables in Python? How do you declare and assign values to variables?"
   ]
  },
  {
   "cell_type": "code",
   "execution_count": 2,
   "id": "0cd43886",
   "metadata": {},
   "outputs": [
    {
     "name": "stdout",
     "output_type": "stream",
     "text": [
      "10\n",
      "message\n",
      "10.25\n"
     ]
    }
   ],
   "source": [
    "#### variable is a symbolic name for python\n",
    "#### actually it refers or points to an object\n",
    "#### when an object is assigned to a variable\n",
    "#### we can refer to the object using the name given to it\n",
    "#### python has no command for declaring a variable\n",
    "#### a varible is created when we assign a value to that\n",
    "#### example...\n",
    "\n",
    "a=10\n",
    "string=\"message\"\n",
    "f=10.25\n",
    "\n",
    "#### here we declared a name for each value \n",
    "#### when we decalred a with 10 then that is created\n",
    "#### same thing happened for rest two variables\n",
    "print(a)\n",
    "print(string)\n",
    "print(f)"
   ]
  },
  {
   "cell_type": "markdown",
   "id": "e4befe7d",
   "metadata": {},
   "source": [
    "### Q3. How do you convert one data type to another in Python?"
   ]
  },
  {
   "cell_type": "code",
   "execution_count": 3,
   "id": "7deca7e5",
   "metadata": {},
   "outputs": [
    {
     "name": "stdout",
     "output_type": "stream",
     "text": [
      "15\n",
      "15\n",
      "3\n",
      "\n",
      "15.0\n",
      "15.25\n",
      "3.0\n",
      "\n",
      "15\n",
      "15.25\n",
      "3\n"
     ]
    }
   ],
   "source": [
    "#### we can convert one data type to another in Python using type casting\n",
    "#### for convering any numeric value to integer we use int()\n",
    "#### for converting any numeric values to float we use float()\n",
    "#### for converting any numeric values to string we use str()\n",
    "#### example...\n",
    "\n",
    "print(int(15))\n",
    "print(int(15.25))\n",
    "print(int(\"3\"))\n",
    "\n",
    "print()\n",
    "\n",
    "print(float(15))\n",
    "print(float(15.25))\n",
    "print(float(\"3\"))\n",
    "\n",
    "print()\n",
    "\n",
    "print(str(15))\n",
    "print(str(15.25))\n",
    "print(str(\"3\"))\n",
    "\n",
    "#### but we cannot string literals to int or float\n",
    "#### int(\"1255gg\") or float(\"1255gg\") will give error"
   ]
  },
  {
   "cell_type": "markdown",
   "id": "bfe51064",
   "metadata": {},
   "source": [
    "### Q4. How do you write and execute a Python script from the command line?\n"
   ]
  },
  {
   "cell_type": "code",
   "execution_count": 4,
   "id": "e356ff28",
   "metadata": {},
   "outputs": [],
   "source": [
    "#### first we have to check whether python is installed on my system\n",
    "#### for that we have to open the command prompt\n",
    "#### type python and press Enter.\n",
    "#### if we see python version then its installed\n",
    "#### otherwise we have to install it using environment path variable\n",
    "#### then we have to write some codes in any text editor\n",
    "#### save iy as .py\n",
    "#### then go to command prompt then have to type python script name\n",
    "#### then if that .py file is in that directory then it will run\n",
    "#### otherwise enounter an error\n",
    "#### then we have to check that directory where the .py file is stored\n",
    "#### then we can copy the file location\n",
    "#### then go to command prompt and type python follwed by that location with\n",
    "#### .py file and then press enter\n",
    "#### that that will run smoothly\n",
    "#### or, we can change the directory from the command prompt according to that \n",
    "#### .py file location and after changing location we can type\n",
    "#### python script name and enter and then it will run smoothly"
   ]
  },
  {
   "cell_type": "markdown",
   "id": "1d63da3e",
   "metadata": {},
   "source": [
    "### Q5. Given a list my_list = [1, 2, 3, 4, 5], write the code to slice the list and obtain the sub-list [2, 3].\n"
   ]
  },
  {
   "cell_type": "code",
   "execution_count": 5,
   "id": "61a3d48c",
   "metadata": {},
   "outputs": [
    {
     "name": "stdout",
     "output_type": "stream",
     "text": [
      "[2, 3]\n"
     ]
    }
   ],
   "source": [
    "print([1,2,3,4,5][1:3])"
   ]
  },
  {
   "cell_type": "markdown",
   "id": "25b2ed2b",
   "metadata": {},
   "source": [
    "### Q6. What is a complex number in mathematics, and how is it represented in Python?\n"
   ]
  },
  {
   "cell_type": "code",
   "execution_count": 6,
   "id": "fb6a60f4",
   "metadata": {},
   "outputs": [
    {
     "name": "stdout",
     "output_type": "stream",
     "text": [
      "(15+5j)\n",
      "15.0\n",
      "5.0\n",
      "\n",
      "(15+5j)\n",
      "15.0\n",
      "5.0\n"
     ]
    }
   ],
   "source": [
    "#### python works with complex numbers in addition to real numbers\n",
    "#### it has numerous applications in mathematics\n",
    "#### python assists in dealing with and manipulating them\n",
    "#### complex numbers are formed by combining two real numbers \n",
    "#### and with imaginary portion\n",
    "#### we can generate it also or utilize that complex number\n",
    "#### it is denoted as  (x + yj), where x and y are real numbers \n",
    "#### and j is an imaginary number \n",
    "#### it is equal to the square root of -1\n",
    "#### example...\n",
    "\n",
    "#### way 1\n",
    "com_1=15+5j\n",
    "print(com_1)\n",
    "print(com_1.real)\n",
    "print(com_1.imag)\n",
    "\n",
    "print()\n",
    "\n",
    "#### way 2\n",
    "com_2=complex(15,5)\n",
    "print(com_2)\n",
    "print(com_2.real)\n",
    "print(com_2.imag)"
   ]
  },
  {
   "cell_type": "markdown",
   "id": "acb40615",
   "metadata": {},
   "source": [
    "### Q7. What is the correct way to declare a variable named age and assign the value 25 to it?\n"
   ]
  },
  {
   "cell_type": "code",
   "execution_count": 7,
   "id": "3c7fc1b8",
   "metadata": {},
   "outputs": [
    {
     "name": "stdout",
     "output_type": "stream",
     "text": [
      "25\n"
     ]
    }
   ],
   "source": [
    "#### as we all know python is a dynamically typed language\n",
    "#### so it is not needed to explicitly type the data type\n",
    "#### python will automatically detect that type according to that value\n",
    "#### as it is not statically typed language\n",
    "#### so we have to name the variable\n",
    "#### assign the value what we want to put\n",
    "#### according to that python interpreter will detect its data type\n",
    "#### for that we have to name it age and give an assignment operator \n",
    "#### and then put 25 to age\n",
    "#### as 25 is numeric value without an fractional part \n",
    "#### python interpreter will detect it as integer and put it in integer class\n",
    "#### here = opearator is required for assigning that 25 value to age variable\n",
    "\n",
    "age=25\n",
    "print(age)"
   ]
  },
  {
   "cell_type": "markdown",
   "id": "be9c3b20",
   "metadata": {},
   "source": [
    "### Q8. Declare a variable named price and assign the value 9.99 to it. What data type does this variable belong to?"
   ]
  },
  {
   "cell_type": "code",
   "execution_count": 8,
   "id": "74c5e968",
   "metadata": {},
   "outputs": [
    {
     "name": "stdout",
     "output_type": "stream",
     "text": [
      "<class 'float'>\n"
     ]
    }
   ],
   "source": [
    "#### as in that variable there is a fractional part \n",
    "#### so it is a float data type\n",
    "#### as in price variable there is .(point)\n",
    "#### as we all know if there is a decimal point after round number\n",
    "#### that number falls under floating point numbers\n",
    "#### so python interpreter will give it float class\n",
    "\n",
    "price=9.99\n",
    "print(type(price))"
   ]
  },
  {
   "cell_type": "markdown",
   "id": "962c4840",
   "metadata": {},
   "source": [
    "### Q9. Create a variable named name and assign your full name to it as a string. How would you print the value of this variable?"
   ]
  },
  {
   "cell_type": "code",
   "execution_count": 9,
   "id": "65ef60d8",
   "metadata": {},
   "outputs": [
    {
     "name": "stdout",
     "output_type": "stream",
     "text": [
      "Debasish Bhattacharjee Victor\n"
     ]
    }
   ],
   "source": [
    "#### after assiging my name to name variable \n",
    "#### if we want to print that name variable we have to use print() function\n",
    "#### here print() is a inbuilt function\n",
    "#### inside the print function i will give the variable name as an parameter\n",
    "#### then it will print the value of that name variable\n",
    "\n",
    "name=\"Debasish Bhattacharjee Victor\"\n",
    "print(name)"
   ]
  },
  {
   "cell_type": "markdown",
   "id": "14aef83f",
   "metadata": {},
   "source": [
    "### Q10. Given the string \"Hello, World!\", extract the substring \"World\"."
   ]
  },
  {
   "cell_type": "code",
   "execution_count": 10,
   "id": "1c01bf90",
   "metadata": {},
   "outputs": [
    {
     "name": "stdout",
     "output_type": "stream",
     "text": [
      "World\n"
     ]
    }
   ],
   "source": [
    "print(\"Hello, World!\"[7:12])"
   ]
  },
  {
   "cell_type": "markdown",
   "id": "a0155172",
   "metadata": {},
   "source": [
    "### Q11. Create a variable named \"is_student\" and assign it a boolean value indicating whether you are currently a student or not"
   ]
  },
  {
   "cell_type": "code",
   "execution_count": 11,
   "id": "ec3ae3d6",
   "metadata": {},
   "outputs": [
    {
     "name": "stdout",
     "output_type": "stream",
     "text": [
      "False\n"
     ]
    }
   ],
   "source": [
    "is_student=False\n",
    "print(is_student)"
   ]
  },
  {
   "cell_type": "code",
   "execution_count": null,
   "id": "41473153",
   "metadata": {},
   "outputs": [],
   "source": []
  }
 ],
 "metadata": {
  "kernelspec": {
   "display_name": "Python 3 (ipykernel)",
   "language": "python",
   "name": "python3"
  },
  "language_info": {
   "codemirror_mode": {
    "name": "ipython",
    "version": 3
   },
   "file_extension": ".py",
   "mimetype": "text/x-python",
   "name": "python",
   "nbconvert_exporter": "python",
   "pygments_lexer": "ipython3",
   "version": "3.9.13"
  }
 },
 "nbformat": 4,
 "nbformat_minor": 5
}
