{
 "cells": [
  {
   "cell_type": "markdown",
   "id": "8a5b3104",
   "metadata": {},
   "source": [
    "### Q1. Which keyword is used to create a function? Create a function to return a list of odd numbers in the range of 1 to 25."
   ]
  },
  {
   "cell_type": "code",
   "execution_count": 1,
   "id": "7c95a8c5",
   "metadata": {},
   "outputs": [
    {
     "data": {
      "text/plain": [
       "[1, 3, 5, 7, 9, 11, 13, 15, 17, 19, 21, 23]"
      ]
     },
     "execution_count": 1,
     "metadata": {},
     "output_type": "execute_result"
    }
   ],
   "source": [
    "#### def keyword is used to create a function.\n",
    "\n",
    "def odd_numbetrs(li):\n",
    "    return [i for i in li if i%2==1]\n",
    "odd_numbetrs(range(1,25))"
   ]
  },
  {
   "cell_type": "markdown",
   "id": "8ef6a40c",
   "metadata": {},
   "source": [
    "### Q2. Why *args and **kwargs is used in some functions? Create a function each for *args and **kwargs to demonstrate their use."
   ]
  },
  {
   "cell_type": "code",
   "execution_count": 2,
   "id": "2c0ed186",
   "metadata": {},
   "outputs": [
    {
     "name": "stdout",
     "output_type": "stream",
     "text": [
      "Example of *args....\n",
      "6\n",
      "10\n",
      "15\n",
      "\n",
      "Example of *kwargs....\n",
      "6\n",
      "10\n",
      "15\n",
      "\n",
      "Example of default with *args and **kwargs....\n",
      "21\n"
     ]
    }
   ],
   "source": [
    "#### We can use *args and **kwargs as arguments in a function \n",
    "#### when we donot know the exact number of arguments required for a function.\n",
    "#### *args is tuple type.\n",
    "#### **kwargs is of dictionary type.\n",
    "#### default args should be typed first \n",
    "#### then *args and then **kwargs if we want.\n",
    "\n",
    "\n",
    "#### example of *args\n",
    "print(\"Example of *args....\")\n",
    "def add(*args):\n",
    "    res=0\n",
    "    for i in args:\n",
    "        res+=i\n",
    "    return res\n",
    "a=add(1,2,3)\n",
    "print(a)\n",
    "a=add(1,2,3,4)\n",
    "print(a)\n",
    "a=add(1,2,3,4,5)\n",
    "print(a)\n",
    "print()\n",
    "\n",
    "\n",
    "\n",
    "#### example of **kwargs\n",
    "print(\"Example of *kwargs....\")\n",
    "def add(**kwargs):\n",
    "    res=0\n",
    "    for i in kwargs.values():\n",
    "        res+=i\n",
    "    return res\n",
    "r=add(a=1,b=2,c=3)\n",
    "print(r)\n",
    "r2=add(a=1,b=2,c=3,d=4)\n",
    "print(r2)\n",
    "r3=add(a=1,b=2,c=3,d=4,e=5)\n",
    "print(r3)\n",
    "print()\n",
    "\n",
    "\n",
    "#### example of default,*args,**kwargs\n",
    "print(\"Example of default with *args and **kwargs....\")\n",
    "def add(a,b,*args,**kwargs):\n",
    "    res=a+b\n",
    "    for i in args:\n",
    "        res+=i\n",
    "    for i in kwargs.values():\n",
    "        res=res+i\n",
    "    return res\n",
    "r5=add(1,2,3,4,d=5,e=6)\n",
    "print(r5)\n"
   ]
  },
  {
   "cell_type": "markdown",
   "id": "73721bd3",
   "metadata": {},
   "source": [
    "### Q3.  What is an iterator in python? Name the method used to initialise the iterator object and the method used for iteration. Use these methods to print the first five elements of the given list [2, 4, 6, 8, 10, 12, 14, 16, 18, 20]."
   ]
  },
  {
   "cell_type": "code",
   "execution_count": 3,
   "id": "c4ca1875",
   "metadata": {},
   "outputs": [],
   "source": [
    "#### iterator is an object which contains values which we can count.\n",
    "#### that means we can iter or traverse through an iterable object.\n",
    "#### list,tuple,dictionary,set are common iterable objects.\n",
    "#### string can also be iterated .\n",
    "\n",
    "#### iter() method is used to initialize the iterable object.\n",
    "#### next() method is used for itering that object.\n",
    "\n",
    "li= [2, 4, 6, 8, 10, 12, 14, 16, 18, 20]\n",
    "list_iter=iter(li)"
   ]
  },
  {
   "cell_type": "code",
   "execution_count": 4,
   "id": "0f2a485a",
   "metadata": {},
   "outputs": [
    {
     "data": {
      "text/plain": [
       "<list_iterator at 0x1b10096dfd0>"
      ]
     },
     "execution_count": 4,
     "metadata": {},
     "output_type": "execute_result"
    }
   ],
   "source": [
    "list_iter"
   ]
  },
  {
   "cell_type": "code",
   "execution_count": 5,
   "id": "e235c11e",
   "metadata": {},
   "outputs": [
    {
     "name": "stdout",
     "output_type": "stream",
     "text": [
      "2\n",
      "4\n",
      "6\n",
      "8\n",
      "10\n"
     ]
    }
   ],
   "source": [
    "print(next(list_iter))\n",
    "print(next(list_iter))\n",
    "print(next(list_iter))\n",
    "print(next(list_iter))\n",
    "print(next(list_iter))"
   ]
  },
  {
   "cell_type": "markdown",
   "id": "48850916",
   "metadata": {},
   "source": [
    "### Q4.  What is a generator function in python? Why yield keyword is used? Give an example of a generator function."
   ]
  },
  {
   "cell_type": "code",
   "execution_count": 6,
   "id": "e178d6dc",
   "metadata": {},
   "outputs": [
    {
     "name": "stdout",
     "output_type": "stream",
     "text": [
      "Example of Generator...\n",
      "0\n",
      "1\n",
      "2\n",
      "3\n",
      "4\n"
     ]
    }
   ],
   "source": [
    "#### generator is a function which is defined using def keyword.\n",
    "#### in general function we use return statement where in generator we use yield.\n",
    "#### we use generator and yield when we need that value.\n",
    "#### usually return keyword returns the processed result at once.\n",
    "#### but yeild keyword returns the iterable object\n",
    "#### which we can use as per as our requirement.\n",
    "#### by usinfg yield we save memory also.\n",
    "#### very useful where to store large values\n",
    "#### we can use generator functon in fibbonacci series,log files.\n",
    "#### actually it concerns a lot when there is a matter of memory optimization.\n",
    "\n",
    "print(\"Example of Generator...\")\n",
    "def ranges(n):\n",
    "    for i in range(n):\n",
    "        yield i\n",
    "ranges_generator=ranges(10000000000000)\n",
    "print(next(ranges_generator))\n",
    "print(next(ranges_generator))\n",
    "print(next(ranges_generator))\n",
    "print(next(ranges_generator))\n",
    "print(next(ranges_generator))"
   ]
  },
  {
   "cell_type": "markdown",
   "id": "d31c9531",
   "metadata": {},
   "source": [
    "### Q5. Create a generator function for prime numbers less than 1000. Use the next() method to print the first 20 prime numbers."
   ]
  },
  {
   "cell_type": "code",
   "execution_count": 7,
   "id": "cf2f9a63",
   "metadata": {},
   "outputs": [
    {
     "name": "stdout",
     "output_type": "stream",
     "text": [
      "2\n",
      "3\n",
      "5\n",
      "7\n",
      "11\n",
      "13\n",
      "17\n",
      "19\n",
      "23\n",
      "29\n",
      "31\n",
      "37\n",
      "41\n",
      "43\n",
      "47\n",
      "53\n",
      "59\n",
      "61\n",
      "67\n",
      "71\n"
     ]
    }
   ],
   "source": [
    "def prime_generators(n):\n",
    "    for i in range(2,n):\n",
    "        for j in range(2,i):\n",
    "            if i%j==0:\n",
    "                break\n",
    "        else:\n",
    "            yield i\n",
    "prime_number=prime_generators(1000)  \n",
    "print(next(prime_number))\n",
    "print(next(prime_number))\n",
    "print(next(prime_number))\n",
    "print(next(prime_number))\n",
    "print(next(prime_number))\n",
    "print(next(prime_number))\n",
    "print(next(prime_number))\n",
    "print(next(prime_number))\n",
    "print(next(prime_number))\n",
    "print(next(prime_number))\n",
    "print(next(prime_number))\n",
    "print(next(prime_number))\n",
    "print(next(prime_number))\n",
    "print(next(prime_number))\n",
    "print(next(prime_number))\n",
    "print(next(prime_number))\n",
    "print(next(prime_number))\n",
    "print(next(prime_number))\n",
    "print(next(prime_number))\n",
    "print(next(prime_number))"
   ]
  },
  {
   "cell_type": "markdown",
   "id": "7b9ad35c",
   "metadata": {},
   "source": [
    "### Q6. Write a python program to print the first 10 Fibonacci numbers using a while loop."
   ]
  },
  {
   "cell_type": "code",
   "execution_count": 8,
   "id": "bb5ee2ef",
   "metadata": {},
   "outputs": [
    {
     "name": "stdout",
     "output_type": "stream",
     "text": [
      "0\n",
      "1\n",
      "1\n",
      "2\n",
      "3\n",
      "5\n",
      "8\n",
      "13\n",
      "21\n",
      "34\n"
     ]
    }
   ],
   "source": [
    "a=0;b=1\n",
    "num=10\n",
    "while (0<num):\n",
    "    print(a)\n",
    "    c=a+b\n",
    "    a=b\n",
    "    b=c\n",
    "    num-=1"
   ]
  },
  {
   "cell_type": "markdown",
   "id": "2d0a59eb",
   "metadata": {},
   "source": [
    "### Q7. Write a List Comprehension to iterate through the given string: ‘pwskills’.\n",
    "### Expected output: ['p', 'w', 's', 'k', 'i', 'l', 'l', 's'] "
   ]
  },
  {
   "cell_type": "code",
   "execution_count": 9,
   "id": "8858f37e",
   "metadata": {},
   "outputs": [
    {
     "name": "stdout",
     "output_type": "stream",
     "text": [
      "['p', 'w', 's', 'k', 'i', 'l', 'l', 's']\n"
     ]
    }
   ],
   "source": [
    "print([i for i in \"pwskills\"])"
   ]
  },
  {
   "cell_type": "markdown",
   "id": "08c1c733",
   "metadata": {},
   "source": [
    "### Q8. Write a python program to check whether a given number is Palindrome or not using a while loop."
   ]
  },
  {
   "cell_type": "code",
   "execution_count": 11,
   "id": "ef010192",
   "metadata": {},
   "outputs": [
    {
     "name": "stdout",
     "output_type": "stream",
     "text": [
      "Enter number: 10121\n",
      "Not Palindrom\n"
     ]
    }
   ],
   "source": [
    "num=int(input(\"Enter number: \"))\n",
    "num=str(num)\n",
    "reverse_num=num[::-1]\n",
    "length=len(num)\n",
    "if length!=len(reverse_num):\n",
    "    print(\"Not Palindrom\")\n",
    "else:\n",
    "    palin=1\n",
    "    while length>=0:\n",
    "        if num[length-1]!=reverse_num[length-1]:\n",
    "            palin=0\n",
    "            break\n",
    "        length-=1\n",
    "    if palin==0:\n",
    "        print(\"Not Palindrom\")\n",
    "    else:\n",
    "        print(\"Palindrom\")\n",
    "        \n",
    "            \n",
    "            \n",
    "    "
   ]
  },
  {
   "cell_type": "markdown",
   "id": "c0c102a1",
   "metadata": {},
   "source": [
    "### Q9. Write a code to print odd numbers from 1 to 100 using list comprehension.\n",
    "### Note: Use a list comprehension to create a list from 1 to 100 and use another List comprehension to filter out odd numbers"
   ]
  },
  {
   "cell_type": "code",
   "execution_count": 12,
   "id": "cd1ddb59",
   "metadata": {},
   "outputs": [
    {
     "name": "stdout",
     "output_type": "stream",
     "text": [
      "[1, 3, 5, 7, 9, 11, 13, 15, 17, 19, 21, 23, 25, 27, 29, 31, 33, 35, 37, 39, 41, 43, 45, 47, 49, 51, 53, 55, 57, 59, 61, 63, 65, 67, 69, 71, 73, 75, 77, 79, 81, 83, 85, 87, 89, 91, 93, 95, 97, 99]\n"
     ]
    }
   ],
   "source": [
    "numbers=[i for i in range(100)]\n",
    "odd_numbers=[i for i in numbers if i%2==1]\n",
    "print(odd_numbers)"
   ]
  },
  {
   "cell_type": "code",
   "execution_count": null,
   "id": "44966a74",
   "metadata": {},
   "outputs": [],
   "source": []
  }
 ],
 "metadata": {
  "kernelspec": {
   "display_name": "Python 3 (ipykernel)",
   "language": "python",
   "name": "python3"
  },
  "language_info": {
   "codemirror_mode": {
    "name": "ipython",
    "version": 3
   },
   "file_extension": ".py",
   "mimetype": "text/x-python",
   "name": "python",
   "nbconvert_exporter": "python",
   "pygments_lexer": "ipython3",
   "version": "3.9.13"
  }
 },
 "nbformat": 4,
 "nbformat_minor": 5
}
