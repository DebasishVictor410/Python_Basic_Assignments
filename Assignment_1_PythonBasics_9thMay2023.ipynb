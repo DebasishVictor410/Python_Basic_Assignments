{
 "cells": [
  {
   "cell_type": "markdown",
   "id": "60d163f3",
   "metadata": {},
   "source": [
    "### Q1. Create one variable containing following type of data:\n",
    "\n",
    "### (i)\tstring\n",
    "\n",
    "### (ii)\tlist\n",
    "\n",
    "### (iii)\tfloat\n",
    "\n",
    "### (iv)\ttuple"
   ]
  },
  {
   "cell_type": "code",
   "execution_count": 1,
   "id": "91f34149",
   "metadata": {},
   "outputs": [
    {
     "name": "stdout",
     "output_type": "stream",
     "text": [
      "'I am learning Data Science' is a <class 'str'> type\n",
      "[0, 1, 2, 3, 4, 5, 6, 7, 8, 9] is a <class 'list'> type\n",
      "15.25 is a <class 'float'> type\n",
      "(15, 25) is a <class 'tuple'> type\n"
     ]
    }
   ],
   "source": [
    "string_1=\"I am learning Data Science\"\n",
    "list_1=list(range(10))\n",
    "float_1=15.25\n",
    "tuple_1=15,25\n",
    "\n",
    "print(f\"'{string_1}' is a {type(string_1)} type\")\n",
    "print(f\"{list_1} is a {type(list_1)} type\")\n",
    "print(f\"{float_1} is a {type(float_1)} type\")\n",
    "print(f\"{tuple_1} is a {type(tuple_1)} type\")"
   ]
  },
  {
   "cell_type": "markdown",
   "id": "8fcdbe1b",
   "metadata": {},
   "source": [
    "### Q2. Given are some following variables containing data:\n",
    "\n",
    "### (i)\tvar1 = ‘ ‘\n",
    "\n",
    "### (ii)\tvar2 = ‘[ DS , ML , Python]’\n",
    "\n",
    "### (iii)\tvar3 = [ ‘DS’ , ’ML’ , ‘Python’ ]\n",
    "\n",
    "### (iv)\tvar4 = 1.\n",
    "\n",
    "\n",
    "### What will be the data type of the above given variable."
   ]
  },
  {
   "cell_type": "code",
   "execution_count": 2,
   "id": "55e09f13",
   "metadata": {},
   "outputs": [
    {
     "name": "stdout",
     "output_type": "stream",
     "text": [
      "'' is a <class 'str'> type\n",
      "[ DS , ML , Python] is a <class 'str'> type\n",
      "['DS', 'ML', 'Python'] is a <class 'list'> type\n",
      "1 is a <class 'int'> type\n"
     ]
    }
   ],
   "source": [
    "#### var_1's type is string\n",
    "#### var_2's type is string\n",
    "#### var_3's type is list\n",
    "#### var_4's type is int\n",
    "\n",
    "\n",
    "var1 = ''\n",
    "var2 = '[ DS , ML , Python]'\n",
    "var3 = [ 'DS' , 'ML', 'Python' ]\n",
    "var4 = 1\n",
    "\n",
    "print(f\"'{var1}' is a {type(var1)} type\")\n",
    "print(f\"{var2} is a {type(var2)} type\")\n",
    "print(f\"{var3} is a {type(var3)} type\")\n",
    "print(f\"{var4} is a {type(var4)} type\")"
   ]
  },
  {
   "cell_type": "markdown",
   "id": "f00929e1",
   "metadata": {},
   "source": [
    "### Q3. Explain the use of the following operators using an example:\n",
    "\n",
    "### (i)\t/\n",
    "### (ii)\t% \n",
    "### (iii)\t//\n",
    "### (iv)\t**"
   ]
  },
  {
   "cell_type": "code",
   "execution_count": 3,
   "id": "c6583c54",
   "metadata": {},
   "outputs": [
    {
     "name": "stdout",
     "output_type": "stream",
     "text": [
      "7.5\n",
      "\n",
      "0\n",
      "\n",
      "7\n",
      "\n",
      "27\n"
     ]
    }
   ],
   "source": [
    "#### / is division operator\n",
    "#### its an arithmetic operator\n",
    "#### it is useful when we can not avoid the fractionl part of any division operation\n",
    "print(15/2)\n",
    "print()\n",
    "\n",
    "#### % is modulus operator\n",
    "#### it is used when we need the remainder value for any division operation\n",
    "#### we need that value when we are doing any calculation which is based on the remainder value\n",
    "#### here in this below operation we are taking the remainder value of 14%2\n",
    "#### as 14 is clearly divisible by 2 so the value is 0\n",
    "print(14%2)\n",
    "print()\n",
    "\n",
    "#### // is floor division\n",
    "#### its an arithmetic operator\n",
    "#### it is useful when we can avoid the fractionl part of any division operation\n",
    "print(15//2)\n",
    "print()\n",
    "\n",
    "#### ** is exponential operator\n",
    "#### it is used when we need a result which needs the power by some value\n",
    "#### here in this example we are multipling 3**3\n",
    "#### that means 3 is first multiplied by 3 \n",
    "#### it will result 9\n",
    "#### after that 9 will be multiplied by 3 again\n",
    "#### then that result will be 27\n",
    "print(3**3)"
   ]
  },
  {
   "cell_type": "markdown",
   "id": "7038de0e",
   "metadata": {},
   "source": [
    "### Q4. Create a list of length 10 of your choice containing multiple types of data. Using for loop print the element and its data type."
   ]
  },
  {
   "cell_type": "code",
   "execution_count": 4,
   "id": "2e14abe0",
   "metadata": {},
   "outputs": [
    {
     "name": "stdout",
     "output_type": "stream",
     "text": [
      "15 <class 'int'>\n",
      "string <class 'str'>\n",
      "15.5 <class 'float'>\n",
      "True <class 'bool'>\n",
      "[1, 2, 3] <class 'list'>\n",
      "(15, 25) <class 'tuple'>\n",
      "{1, 2, 3} <class 'set'>\n",
      "{'key_1': 'val_1', 'key_2': 'val_2'} <class 'dict'>\n",
      "(15+5j) <class 'complex'>\n",
      "frozenset({'banana', 'cherry', 'apple'}) <class 'frozenset'>\n"
     ]
    }
   ],
   "source": [
    "list_1=[15, 'string' , 15.5, True, [1,2,3],(15,25),{1,2,3},{'key_1':'val_1','key_2':'val_2'},15+5j,frozenset({\"apple\", \"banana\", \"cherry\"})]\n",
    "for i in list_1:\n",
    "    print(i,type(i))"
   ]
  },
  {
   "cell_type": "markdown",
   "id": "f9cdfd2d",
   "metadata": {},
   "source": [
    "### Q5. Using a while loop, verify if the number A is purely divisible by number B and if so then how many times it can be divisible."
   ]
  },
  {
   "cell_type": "code",
   "execution_count": 5,
   "id": "bbf0ce23",
   "metadata": {},
   "outputs": [
    {
     "name": "stdout",
     "output_type": "stream",
     "text": [
      "Enter A::600\n",
      "Enter B::2\n",
      "It canbe divisible by 3 times\n"
     ]
    }
   ],
   "source": [
    "num_1=int(input(\"Enter A::\"))\n",
    "num_2=int(input(\"Enter B::\"))\n",
    "\n",
    "count=0\n",
    "while True:\n",
    "    res=num_1%num_2\n",
    "    if res==0:\n",
    "        count+=1\n",
    "        num_1=num_1/num_2\n",
    "    else:\n",
    "        break\n",
    "        \n",
    "if count==0:\n",
    "    print(\"It cannot be purely divisible\")\n",
    "else:\n",
    "    print(\"It canbe divisible by\",count,\"times\")        "
   ]
  },
  {
   "cell_type": "markdown",
   "id": "15b82292",
   "metadata": {},
   "source": [
    "### Q6. Create a list containing 25 int type data. Using for loop and if-else condition print if the element is divisible by 3 or not."
   ]
  },
  {
   "cell_type": "code",
   "execution_count": 6,
   "id": "661a44cf",
   "metadata": {},
   "outputs": [
    {
     "name": "stdout",
     "output_type": "stream",
     "text": [
      "1 Not Divisible by 3\n",
      "2 Not Divisible by 3\n",
      "3 Divisible by 3\n",
      "4 Not Divisible by 3\n",
      "5 Not Divisible by 3\n",
      "6 Divisible by 3\n",
      "7 Not Divisible by 3\n",
      "8 Not Divisible by 3\n",
      "9 Divisible by 3\n",
      "10 Not Divisible by 3\n",
      "11 Not Divisible by 3\n",
      "12 Divisible by 3\n",
      "13 Not Divisible by 3\n",
      "14 Not Divisible by 3\n",
      "15 Divisible by 3\n",
      "16 Not Divisible by 3\n",
      "17 Not Divisible by 3\n",
      "18 Divisible by 3\n",
      "19 Not Divisible by 3\n",
      "20 Not Divisible by 3\n",
      "21 Divisible by 3\n",
      "22 Not Divisible by 3\n",
      "23 Not Divisible by 3\n",
      "24 Divisible by 3\n",
      "25 Not Divisible by 3\n"
     ]
    }
   ],
   "source": [
    "list_2=list(range(1,26,1))\n",
    "\n",
    "for i in list_2:\n",
    "    if i%3==0:\n",
    "        print(f\"{i} Divisible by 3\")\n",
    "    else:\n",
    "         print(f\"{i} Not Divisible by 3\")"
   ]
  },
  {
   "cell_type": "markdown",
   "id": "a51ca7ca",
   "metadata": {},
   "source": [
    "### Q7. What do you understand about mutable and immutable data types? Give examples for both showing this property."
   ]
  },
  {
   "cell_type": "code",
   "execution_count": 7,
   "id": "9d0692af",
   "metadata": {},
   "outputs": [
    {
     "name": "stdout",
     "output_type": "stream",
     "text": [
      "List after appending [1, 2, 3, 4, 5, 100]\n",
      "List after extending [1, 2, 3, 4, 5, 100, 6, 11, 23]\n",
      "List after removing [1, 2, 4, 5, 100, 6, 11, 23]\n",
      "List after changing value [1, 2, 10]\n",
      "\n",
      "Set after adding a value :  {16, 1, 2, 5, 6, 7, 11}\n",
      "Set after updating some values :  {1, 2, 5, 6, 7, 9, 11, 78, 16, 100}\n",
      "Set after removing a value :  {1, 5, 6, 7, 9, 11, 78, 16, 100}\n",
      "\n",
      "Dictionary after adding {'Name': 'DB', 'Course': 'Data Science', 'Country': 'Bangladesh'}\n",
      "Dictionary after updating an existing key {'Name': 'DB', 'Course': 'Data Science', 'Country': 'BD'}\n",
      "Dictionary after popping  {'Course': 'Data Science', 'Country': 'BD'}\n",
      "After clearing the whole dictionary =  {}\n",
      "\n",
      "\n"
     ]
    }
   ],
   "source": [
    "#### In programming, there is immutable object and mutable also\n",
    "#### immutable object is when we can’t change the object’s state after you’ve created it\n",
    "#### In contrary, a mutable object allows you to modify its internal state after creation\n",
    "\n",
    "#### mutable object\n",
    "#### set \n",
    "#### list\n",
    "#### dictionary\n",
    "\n",
    "#### immutable object\n",
    "#### numbers\n",
    "#### strings\n",
    "#### tuples\n",
    "\n",
    "#### example of mutable object\n",
    "#### so we can do item assignment\n",
    "#### item deletion\n",
    "#### slice assignment\n",
    "#### slice deletion\n",
    "#### adding or removing\n",
    "\n",
    "#### some examples...\n",
    "#### list\n",
    "my_list = [1,2,3,4,5]\n",
    "my_list.append(100)\n",
    "print(\"List after appending\",my_list)\n",
    "\n",
    "#### using extend operation in our list\n",
    "my_list.extend([6,11,23])\n",
    "\n",
    "# printing our list after the operation\n",
    "print(\"List after extending\",my_list)\n",
    "\n",
    "# after removing a value from our list\n",
    "my_list.remove(3)\n",
    "# printing our list after the operation\n",
    "print(\"List after removing\",my_list)\n",
    "my_list = [1,2,3]\n",
    "my_list[2] = 10\n",
    "print(\"List after changing value\", my_list)\n",
    "print()\n",
    "\n",
    "#### some examples...\n",
    "#### sets\n",
    "my_set = {1,2,6,5,7,11}\n",
    "my_set.add(16)\n",
    "\n",
    "print(\"Set after adding a value : \",my_set)\n",
    "\n",
    "my_set.update([9,78,100])\n",
    "print(\"Set after updating some values : \",my_set)\n",
    "my_set.remove(2)\n",
    "\n",
    "print(\"Set after removing a value : \",my_set)\n",
    "\n",
    "print()\n",
    "\n",
    "#### some examples...\n",
    "#### dictionary\n",
    "my_dict = {\"Name\":\"DB\", \"Course\":\"Data Science\"}\n",
    "my_dict['Country'] = \"Bangladesh\"\n",
    "print(\"Dictionary after adding\",my_dict)\n",
    "\n",
    "my_dict['Country'] = \"BD\"\n",
    "print(\"Dictionary after updating an existing key\",my_dict)\n",
    "\n",
    "my_dict.pop('Name')\n",
    "print(\"Dictionary after popping \",my_dict)\n",
    "\n",
    "my_dict.clear()\n",
    "print(\"After clearing the whole dictionary = \",my_dict)\n",
    "\n",
    "print()\n",
    "print()\n",
    "\n",
    "#### example of immutable object\n",
    "#### so we cannot do item assignment\n",
    "#### cannot do item deletion\n",
    "\n",
    "#### some examples...\n",
    "#### numbers\n",
    "int_1=10\n",
    "#### here int_1[0]=2 will give error\n",
    "string=\"Victor\"\n",
    "#### here string[2]=\"I\" will give error\n",
    "tup=15,25,\n",
    "#### here tup[1]=50 will give error"
   ]
  },
  {
   "cell_type": "code",
   "execution_count": null,
   "id": "b5c08164",
   "metadata": {},
   "outputs": [],
   "source": []
  }
 ],
 "metadata": {
  "kernelspec": {
   "display_name": "Python 3 (ipykernel)",
   "language": "python",
   "name": "python3"
  },
  "language_info": {
   "codemirror_mode": {
    "name": "ipython",
    "version": 3
   },
   "file_extension": ".py",
   "mimetype": "text/x-python",
   "name": "python",
   "nbconvert_exporter": "python",
   "pygments_lexer": "ipython3",
   "version": "3.9.13"
  }
 },
 "nbformat": 4,
 "nbformat_minor": 5
}
