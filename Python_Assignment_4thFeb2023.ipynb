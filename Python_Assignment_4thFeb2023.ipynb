{
 "cells": [
  {
   "cell_type": "markdown",
   "id": "b4d6f14b",
   "metadata": {},
   "source": [
    "### Q1. Create a python program to sort the given list of tuples based on integer value using a lambda function.\n",
    "### [('Sachin Tendulkar', 34357), ('Ricky Ponting', 27483), ('Jack Kallis', 25534), ('Virat Kohli', 24936)]"
   ]
  },
  {
   "cell_type": "code",
   "execution_count": 1,
   "id": "b2ffef69",
   "metadata": {},
   "outputs": [
    {
     "data": {
      "text/plain": [
       "[24936, 25534, 27483, 34357]"
      ]
     },
     "execution_count": 1,
     "metadata": {},
     "output_type": "execute_result"
    }
   ],
   "source": [
    "li=[('Sachin Tendulkar', 34357), ('Ricky Ponting', 27483), ('Jack Kallis', 25534), ('Virat Kohli', 24936)]\n",
    "total_list_int=[]\n",
    "\n",
    "def check(entry):\n",
    "    for item in entry:\n",
    "        single_entry_checking(item)\n",
    "\n",
    "def single_entry_checking(entry):\n",
    "    if type(entry)==int:\n",
    "        total_list_int.append(entry)\n",
    "        return total_list_int\n",
    "    elif type(entry)==list or type(entry)==tuple:\n",
    "        check(entry)\n",
    "        \n",
    "        \n",
    "single_entry_checking(li) \n",
    "sort=lambda x:sorted(x)\n",
    "sort(total_list_int)"
   ]
  },
  {
   "cell_type": "markdown",
   "id": "48b221dd",
   "metadata": {},
   "source": [
    "### Q2. Write a Python Program to find the squares of all the numbers in the given list of integers using lambda and map functions.\n",
    "### [1, 2, 3, 4, 5, 6, 7, 8, 9, 10]"
   ]
  },
  {
   "cell_type": "code",
   "execution_count": 2,
   "id": "ab224b26",
   "metadata": {},
   "outputs": [
    {
     "name": "stdout",
     "output_type": "stream",
     "text": [
      "[1, 4, 9, 16, 25, 36, 49, 64, 81, 100]\n"
     ]
    }
   ],
   "source": [
    "print(list(map(lambda x:x**2,[1, 2, 3, 4, 5, 6, 7, 8, 9, 10])))"
   ]
  },
  {
   "cell_type": "markdown",
   "id": "f339b50f",
   "metadata": {},
   "source": [
    "### Q3. Write a python program to convert the given list of integers into a tuple of strings. Use map and lambda functions\n",
    "### Given String: [1, 2, 3, 4, 5, 6, 7, 8, 9, 10]\n",
    "### Expected output: ('1', '2', '3', '4', '5', '6', '7', '8', '9', '10')"
   ]
  },
  {
   "cell_type": "code",
   "execution_count": 3,
   "id": "125afc72",
   "metadata": {},
   "outputs": [
    {
     "name": "stdout",
     "output_type": "stream",
     "text": [
      "('1', '2', '3', '4', '5', '6', '7', '8', '9', '10')\n"
     ]
    }
   ],
   "source": [
    "print(tuple(map(lambda x:str(x),[1, 2, 3, 4, 5, 6, 7, 8, 9, 10])))"
   ]
  },
  {
   "cell_type": "markdown",
   "id": "831c992d",
   "metadata": {},
   "source": [
    "### Q4. Write a python program using reduce function to compute the product of a list containing numbers from 1 to 25."
   ]
  },
  {
   "cell_type": "code",
   "execution_count": 4,
   "id": "582b4656",
   "metadata": {},
   "outputs": [
    {
     "name": "stdout",
     "output_type": "stream",
     "text": [
      "15511210043330985984000000\n"
     ]
    }
   ],
   "source": [
    "from functools import reduce\n",
    "print(reduce(lambda x,y:x*y,range(1,26)))"
   ]
  },
  {
   "cell_type": "markdown",
   "id": "1bc8f0a5",
   "metadata": {},
   "source": [
    "### Q5. Write a python program to filter the numbers in a given list that are divisible by 2 and 3 using the filter function.\n",
    "### [2, 3, 6, 9, 27, 60, 90, 120, 55, 46]"
   ]
  },
  {
   "cell_type": "code",
   "execution_count": 5,
   "id": "60b7d5f4",
   "metadata": {},
   "outputs": [
    {
     "name": "stdout",
     "output_type": "stream",
     "text": [
      "[2, 3, 6, 9, 27, 60, 90, 120, 46]\n"
     ]
    }
   ],
   "source": [
    "print(list(filter(lambda x:x%2==0 or x%3==0,[2, 3, 6, 9, 27, 60, 90, 120, 55, 46])))"
   ]
  },
  {
   "cell_type": "markdown",
   "id": "be52c18a",
   "metadata": {},
   "source": [
    "### Q6. Write a python program to find palindromes in the given list of strings using lambda and filter function.\n",
    "### ['python', 'php', 'aba', 'radar', 'level']"
   ]
  },
  {
   "cell_type": "code",
   "execution_count": 6,
   "id": "65b84421",
   "metadata": {},
   "outputs": [
    {
     "name": "stdout",
     "output_type": "stream",
     "text": [
      "['php', 'aba', 'radar', 'level']\n"
     ]
    }
   ],
   "source": [
    "print(list(filter(lambda x:x[::]==x[::-1],['python', 'php', 'aba', 'radar', 'level'])))"
   ]
  },
  {
   "cell_type": "code",
   "execution_count": null,
   "id": "cd4dfbc3",
   "metadata": {},
   "outputs": [],
   "source": []
  }
 ],
 "metadata": {
  "kernelspec": {
   "display_name": "Python 3 (ipykernel)",
   "language": "python",
   "name": "python3"
  },
  "language_info": {
   "codemirror_mode": {
    "name": "ipython",
    "version": 3
   },
   "file_extension": ".py",
   "mimetype": "text/x-python",
   "name": "python",
   "nbconvert_exporter": "python",
   "pygments_lexer": "ipython3",
   "version": "3.9.13"
  }
 },
 "nbformat": 4,
 "nbformat_minor": 5
}
